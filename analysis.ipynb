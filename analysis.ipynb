{
 "cells": [
  {
   "cell_type": "code",
   "execution_count": 65,
   "metadata": {},
   "outputs": [],
   "source": [
    "import pandas as pd\n",
    "from matplotlib import pyplot as plt\n",
    "from math import sqrt"
   ]
  },
  {
   "cell_type": "markdown",
   "metadata": {},
   "source": [
    "# Вспомогательные функции"
   ]
  },
  {
   "cell_type": "code",
   "execution_count": 2,
   "metadata": {},
   "outputs": [],
   "source": [
    "#Доверительный интервал разницы двух конверсий\n",
    "\n",
    "def trust_interval_conv (conv_1, conv_2, n_1, n_2, alpha):\n",
    "    f = conv_2-conv_1 - alpha * sqrt((conv_1*(1-conv_1)/n_1)+(conv_2*(1-conv_2)/n_2))\n",
    "    s = conv_2-conv_1 + alpha * sqrt((conv_1*(1-conv_1)/n_1)+(conv_2*(1-conv_2)/n_2))\n",
    "    return f*100,s*100"
   ]
  },
  {
   "attachments": {},
   "cell_type": "markdown",
   "metadata": {},
   "source": [
    "# Предобработка"
   ]
  },
  {
   "cell_type": "code",
   "execution_count": 3,
   "metadata": {},
   "outputs": [],
   "source": [
    "feature_columns = ['ShortTermAmount', 'ShortTermPeriod', 'LongTermAmount', 'LongTermPeriod', 'RequestedAmount', 'RequestedPeriod', 'LoanSum', 'Period', 'ShortTermScore', 'LongTermScore']"
   ]
  },
  {
   "cell_type": "code",
   "execution_count": 4,
   "metadata": {},
   "outputs": [
    {
     "name": "stdout",
     "output_type": "stream",
     "text": [
      "<class 'pandas.core.frame.DataFrame'>\n",
      "RangeIndex: 94171 entries, 0 to 94170\n",
      "Data columns (total 20 columns):\n",
      " #   Column           Non-Null Count  Dtype         \n",
      "---  ------           --------------  -----         \n",
      " 0   Project          94171 non-null  int64         \n",
      " 1   OrderDate        94171 non-null  datetime64[ns]\n",
      " 2   orderid          94171 non-null  int64         \n",
      " 3   ClientID         94171 non-null  int64         \n",
      " 4   IsRepeat         94171 non-null  int64         \n",
      " 5   IsBlocked        94171 non-null  int64         \n",
      " 6   IsManual         94171 non-null  int64         \n",
      " 7   AutoDecision     94171 non-null  int64         \n",
      " 8   ManualApprove    94171 non-null  int64         \n",
      " 9   IsLoan           94171 non-null  int64         \n",
      " 10  ShortTermAmount  94171 non-null  int64         \n",
      " 11  ShortTermPeriod  94171 non-null  int64         \n",
      " 12  LongTermAmount   94171 non-null  int64         \n",
      " 13  LongTermPeriod   94171 non-null  int64         \n",
      " 14  RequestedAmount  94171 non-null  int64         \n",
      " 15  RequestedPeriod  94171 non-null  int64         \n",
      " 16  LoanSum          94171 non-null  int64         \n",
      " 17  Period           41520 non-null  float64       \n",
      " 18  ShortTermScore   94171 non-null  float64       \n",
      " 19  LongTermScore    94171 non-null  float64       \n",
      "dtypes: datetime64[ns](1), float64(3), int64(16)\n",
      "memory usage: 14.4 MB\n"
     ]
    }
   ],
   "source": [
    "df = pd.read_excel('Test_task.xlsx')\n",
    "df.info()"
   ]
  },
  {
   "attachments": {},
   "cell_type": "markdown",
   "metadata": {},
   "source": [
    "Во всех колонках, кроме `Period` по 94171 строке. Изучим пропуски в этой колонке. "
   ]
  },
  {
   "cell_type": "code",
   "execution_count": 5,
   "metadata": {},
   "outputs": [
    {
     "data": {
      "text/plain": [
       "count    41520.000000\n",
       "mean        19.208598\n",
       "std         19.369892\n",
       "min          0.000000\n",
       "25%          0.000000\n",
       "50%         14.000000\n",
       "75%         32.000000\n",
       "max        168.000000\n",
       "Name: Period, dtype: float64"
      ]
     },
     "execution_count": 5,
     "metadata": {},
     "output_type": "execute_result"
    }
   ],
   "source": [
    "df['Period'].describe()"
   ]
  },
  {
   "cell_type": "code",
   "execution_count": 6,
   "metadata": {},
   "outputs": [
    {
     "data": {
      "text/plain": [
       "array([0])"
      ]
     },
     "execution_count": 6,
     "metadata": {},
     "output_type": "execute_result"
    }
   ],
   "source": [
    "#Выводим уникальные значения isLoan для пустых значений Period\n",
    "df[df['Period'].isna() == True]['IsLoan'].unique()"
   ]
  },
  {
   "attachments": {},
   "cell_type": "markdown",
   "metadata": {},
   "source": [
    "Всем null значениям в колонке `Period` соответствуют нулевые значения `isLoan`. \n",
    "Проверим значения колонки `isLoan` для нулевых значний `Period`.\n"
   ]
  },
  {
   "cell_type": "code",
   "execution_count": 7,
   "metadata": {},
   "outputs": [
    {
     "data": {
      "text/plain": [
       "array([0])"
      ]
     },
     "execution_count": 7,
     "metadata": {},
     "output_type": "execute_result"
    }
   ],
   "source": [
    "df[df['Period'] == 0]['IsLoan'].unique()"
   ]
  },
  {
   "attachments": {},
   "cell_type": "markdown",
   "metadata": {},
   "source": [
    "Заполним пропущенные значения в колонке `Period` значениями 0"
   ]
  },
  {
   "cell_type": "code",
   "execution_count": 8,
   "metadata": {},
   "outputs": [
    {
     "name": "stdout",
     "output_type": "stream",
     "text": [
      "<class 'pandas.core.frame.DataFrame'>\n",
      "RangeIndex: 94171 entries, 0 to 94170\n",
      "Data columns (total 20 columns):\n",
      " #   Column           Non-Null Count  Dtype         \n",
      "---  ------           --------------  -----         \n",
      " 0   Project          94171 non-null  int64         \n",
      " 1   OrderDate        94171 non-null  datetime64[ns]\n",
      " 2   orderid          94171 non-null  int64         \n",
      " 3   ClientID         94171 non-null  int64         \n",
      " 4   IsRepeat         94171 non-null  int64         \n",
      " 5   IsBlocked        94171 non-null  int64         \n",
      " 6   IsManual         94171 non-null  int64         \n",
      " 7   AutoDecision     94171 non-null  int64         \n",
      " 8   ManualApprove    94171 non-null  int64         \n",
      " 9   IsLoan           94171 non-null  int64         \n",
      " 10  ShortTermAmount  94171 non-null  int64         \n",
      " 11  ShortTermPeriod  94171 non-null  int64         \n",
      " 12  LongTermAmount   94171 non-null  int64         \n",
      " 13  LongTermPeriod   94171 non-null  int64         \n",
      " 14  RequestedAmount  94171 non-null  int64         \n",
      " 15  RequestedPeriod  94171 non-null  int64         \n",
      " 16  LoanSum          94171 non-null  int64         \n",
      " 17  Period           94171 non-null  float64       \n",
      " 18  ShortTermScore   94171 non-null  float64       \n",
      " 19  LongTermScore    94171 non-null  float64       \n",
      "dtypes: datetime64[ns](1), float64(3), int64(16)\n",
      "memory usage: 14.4 MB\n"
     ]
    }
   ],
   "source": [
    "df['Period'] = df['Period'].fillna(0)\n",
    "df.info() "
   ]
  },
  {
   "attachments": {},
   "cell_type": "markdown",
   "metadata": {},
   "source": [
    "Изменим значения в колонках с типом bool на соответствующие"
   ]
  },
  {
   "cell_type": "code",
   "execution_count": 9,
   "metadata": {},
   "outputs": [],
   "source": [
    "df['IsBlocked'] = df['IsBlocked'].astype(bool)\n",
    "df['IsRepeat'] = df['IsRepeat'].astype(bool)\n",
    "df['IsManual'] = df['IsManual'].astype(bool)\n",
    "df['AutoDecision'] = df['AutoDecision'].astype(bool)\n",
    "df['ManualApprove'] = df['ManualApprove'].astype(bool)\n",
    "df['IsLoan'] = df['IsLoan'].astype(bool)"
   ]
  },
  {
   "cell_type": "code",
   "execution_count": 10,
   "metadata": {},
   "outputs": [
    {
     "data": {
      "text/html": [
       "<div>\n",
       "<style scoped>\n",
       "    .dataframe tbody tr th:only-of-type {\n",
       "        vertical-align: middle;\n",
       "    }\n",
       "\n",
       "    .dataframe tbody tr th {\n",
       "        vertical-align: top;\n",
       "    }\n",
       "\n",
       "    .dataframe thead th {\n",
       "        text-align: right;\n",
       "    }\n",
       "</style>\n",
       "<table border=\"1\" class=\"dataframe\">\n",
       "  <thead>\n",
       "    <tr style=\"text-align: right;\">\n",
       "      <th></th>\n",
       "      <th>Project</th>\n",
       "      <th>orderid</th>\n",
       "      <th>ClientID</th>\n",
       "      <th>ShortTermAmount</th>\n",
       "      <th>ShortTermPeriod</th>\n",
       "      <th>LongTermAmount</th>\n",
       "      <th>LongTermPeriod</th>\n",
       "      <th>RequestedAmount</th>\n",
       "      <th>RequestedPeriod</th>\n",
       "      <th>LoanSum</th>\n",
       "      <th>Period</th>\n",
       "      <th>ShortTermScore</th>\n",
       "      <th>LongTermScore</th>\n",
       "    </tr>\n",
       "  </thead>\n",
       "  <tbody>\n",
       "    <tr>\n",
       "      <th>count</th>\n",
       "      <td>94171.000000</td>\n",
       "      <td>9.417100e+04</td>\n",
       "      <td>9.417100e+04</td>\n",
       "      <td>94171.000000</td>\n",
       "      <td>94171.000000</td>\n",
       "      <td>94171.000000</td>\n",
       "      <td>94171.000000</td>\n",
       "      <td>94171.000000</td>\n",
       "      <td>94171.000000</td>\n",
       "      <td>94171.000000</td>\n",
       "      <td>94171.000000</td>\n",
       "      <td>94171.000000</td>\n",
       "      <td>94171.000000</td>\n",
       "    </tr>\n",
       "    <tr>\n",
       "      <th>mean</th>\n",
       "      <td>0.190143</td>\n",
       "      <td>3.727914e+06</td>\n",
       "      <td>3.339311e+06</td>\n",
       "      <td>4431.815527</td>\n",
       "      <td>13.111106</td>\n",
       "      <td>3877.764917</td>\n",
       "      <td>11.951535</td>\n",
       "      <td>14227.333255</td>\n",
       "      <td>44.988903</td>\n",
       "      <td>2698.626276</td>\n",
       "      <td>8.469072</td>\n",
       "      <td>0.342457</td>\n",
       "      <td>0.333391</td>\n",
       "    </tr>\n",
       "    <tr>\n",
       "      <th>std</th>\n",
       "      <td>0.392416</td>\n",
       "      <td>9.361716e+05</td>\n",
       "      <td>1.292397e+06</td>\n",
       "      <td>6956.616047</td>\n",
       "      <td>18.631968</td>\n",
       "      <td>7848.179235</td>\n",
       "      <td>24.020908</td>\n",
       "      <td>15849.600322</td>\n",
       "      <td>50.722840</td>\n",
       "      <td>5334.308703</td>\n",
       "      <td>16.011716</td>\n",
       "      <td>0.345315</td>\n",
       "      <td>0.331679</td>\n",
       "    </tr>\n",
       "    <tr>\n",
       "      <th>min</th>\n",
       "      <td>0.000000</td>\n",
       "      <td>1.786974e+06</td>\n",
       "      <td>2.398000e+03</td>\n",
       "      <td>0.000000</td>\n",
       "      <td>0.000000</td>\n",
       "      <td>0.000000</td>\n",
       "      <td>0.000000</td>\n",
       "      <td>1500.000000</td>\n",
       "      <td>10.000000</td>\n",
       "      <td>0.000000</td>\n",
       "      <td>0.000000</td>\n",
       "      <td>0.000000</td>\n",
       "      <td>0.000000</td>\n",
       "    </tr>\n",
       "    <tr>\n",
       "      <th>25%</th>\n",
       "      <td>0.000000</td>\n",
       "      <td>4.147760e+06</td>\n",
       "      <td>2.184314e+06</td>\n",
       "      <td>0.000000</td>\n",
       "      <td>0.000000</td>\n",
       "      <td>0.000000</td>\n",
       "      <td>0.000000</td>\n",
       "      <td>4100.000000</td>\n",
       "      <td>14.000000</td>\n",
       "      <td>0.000000</td>\n",
       "      <td>0.000000</td>\n",
       "      <td>0.026816</td>\n",
       "      <td>0.026374</td>\n",
       "    </tr>\n",
       "    <tr>\n",
       "      <th>50%</th>\n",
       "      <td>0.000000</td>\n",
       "      <td>4.172454e+06</td>\n",
       "      <td>4.046153e+06</td>\n",
       "      <td>0.000000</td>\n",
       "      <td>0.000000</td>\n",
       "      <td>0.000000</td>\n",
       "      <td>0.000000</td>\n",
       "      <td>9900.000000</td>\n",
       "      <td>29.000000</td>\n",
       "      <td>0.000000</td>\n",
       "      <td>0.000000</td>\n",
       "      <td>0.185611</td>\n",
       "      <td>0.189948</td>\n",
       "    </tr>\n",
       "    <tr>\n",
       "      <th>75%</th>\n",
       "      <td>0.000000</td>\n",
       "      <td>4.196308e+06</td>\n",
       "      <td>4.416716e+06</td>\n",
       "      <td>8500.000000</td>\n",
       "      <td>40.000000</td>\n",
       "      <td>0.000000</td>\n",
       "      <td>0.000000</td>\n",
       "      <td>16500.000000</td>\n",
       "      <td>40.000000</td>\n",
       "      <td>3000.000000</td>\n",
       "      <td>12.000000</td>\n",
       "      <td>0.697434</td>\n",
       "      <td>0.645539</td>\n",
       "    </tr>\n",
       "    <tr>\n",
       "      <th>max</th>\n",
       "      <td>1.000000</td>\n",
       "      <td>4.220709e+06</td>\n",
       "      <td>4.457704e+06</td>\n",
       "      <td>25300.000000</td>\n",
       "      <td>56.000000</td>\n",
       "      <td>45000.000000</td>\n",
       "      <td>168.000000</td>\n",
       "      <td>70000.000000</td>\n",
       "      <td>168.000000</td>\n",
       "      <td>70000.000000</td>\n",
       "      <td>168.000000</td>\n",
       "      <td>0.993837</td>\n",
       "      <td>0.993837</td>\n",
       "    </tr>\n",
       "  </tbody>\n",
       "</table>\n",
       "</div>"
      ],
      "text/plain": [
       "            Project       orderid      ClientID  ShortTermAmount  \\\n",
       "count  94171.000000  9.417100e+04  9.417100e+04     94171.000000   \n",
       "mean       0.190143  3.727914e+06  3.339311e+06      4431.815527   \n",
       "std        0.392416  9.361716e+05  1.292397e+06      6956.616047   \n",
       "min        0.000000  1.786974e+06  2.398000e+03         0.000000   \n",
       "25%        0.000000  4.147760e+06  2.184314e+06         0.000000   \n",
       "50%        0.000000  4.172454e+06  4.046153e+06         0.000000   \n",
       "75%        0.000000  4.196308e+06  4.416716e+06      8500.000000   \n",
       "max        1.000000  4.220709e+06  4.457704e+06     25300.000000   \n",
       "\n",
       "       ShortTermPeriod  LongTermAmount  LongTermPeriod  RequestedAmount  \\\n",
       "count     94171.000000    94171.000000    94171.000000     94171.000000   \n",
       "mean         13.111106     3877.764917       11.951535     14227.333255   \n",
       "std          18.631968     7848.179235       24.020908     15849.600322   \n",
       "min           0.000000        0.000000        0.000000      1500.000000   \n",
       "25%           0.000000        0.000000        0.000000      4100.000000   \n",
       "50%           0.000000        0.000000        0.000000      9900.000000   \n",
       "75%          40.000000        0.000000        0.000000     16500.000000   \n",
       "max          56.000000    45000.000000      168.000000     70000.000000   \n",
       "\n",
       "       RequestedPeriod       LoanSum        Period  ShortTermScore  \\\n",
       "count     94171.000000  94171.000000  94171.000000    94171.000000   \n",
       "mean         44.988903   2698.626276      8.469072        0.342457   \n",
       "std          50.722840   5334.308703     16.011716        0.345315   \n",
       "min          10.000000      0.000000      0.000000        0.000000   \n",
       "25%          14.000000      0.000000      0.000000        0.026816   \n",
       "50%          29.000000      0.000000      0.000000        0.185611   \n",
       "75%          40.000000   3000.000000     12.000000        0.697434   \n",
       "max         168.000000  70000.000000    168.000000        0.993837   \n",
       "\n",
       "       LongTermScore  \n",
       "count   94171.000000  \n",
       "mean        0.333391  \n",
       "std         0.331679  \n",
       "min         0.000000  \n",
       "25%         0.026374  \n",
       "50%         0.189948  \n",
       "75%         0.645539  \n",
       "max         0.993837  "
      ]
     },
     "execution_count": 10,
     "metadata": {},
     "output_type": "execute_result"
    }
   ],
   "source": [
    "df.describe()"
   ]
  },
  {
   "attachments": {},
   "cell_type": "markdown",
   "metadata": {},
   "source": [
    "Видно, что из-за достаточно большого количества отказов, в таблице не наблюдается нормального распределения. Рассмотрим количество отказов и одобрений. "
   ]
  },
  {
   "cell_type": "code",
   "execution_count": 11,
   "metadata": {},
   "outputs": [
    {
     "name": "stdout",
     "output_type": "stream",
     "text": [
      "Количество выданных займов: 27384\n",
      "Количество невыданных займов: 66787\n"
     ]
    }
   ],
   "source": [
    "print ('Количество выданных займов:',len(df[df['IsLoan']==True].index))\n",
    "print ('Количество невыданных займов:',len(df[df['IsLoan']==False].index))"
   ]
  },
  {
   "attachments": {},
   "cell_type": "markdown",
   "metadata": {},
   "source": [
    "Разделим данные на два фрейма, отказы и выдачи. "
   ]
  },
  {
   "cell_type": "code",
   "execution_count": 12,
   "metadata": {},
   "outputs": [],
   "source": [
    "df_loaned = df[df['IsLoan']==True]\n",
    "df_declined = df[df['IsLoan']==False]"
   ]
  },
  {
   "cell_type": "markdown",
   "metadata": {},
   "source": [
    "Изучим данные в каждой таблице отдельно"
   ]
  },
  {
   "cell_type": "code",
   "execution_count": 13,
   "metadata": {},
   "outputs": [
    {
     "data": {
      "image/png": "[encoded data removed]",
      "text/plain": [
       "<Figure size 432x288 with 1 Axes>"
      ]
     },
     "metadata": {
      "needs_background": "light"
     },
     "output_type": "display_data"
    },
    {
     "data": {
      "image/png": "[encoded data removed]",
      "text/plain": [
       "<Figure size 432x288 with 1 Axes>"
      ]
     },
     "metadata": {
      "needs_background": "light"
     },
     "output_type": "display_data"
    },
    {
     "data": {
      "image/png": "[encoded data removed]",
      "text/plain": [
       "<Figure size 432x288 with 1 Axes>"
      ]
     },
     "metadata": {
      "needs_background": "light"
     },
     "output_type": "display_data"
    },
    {
     "data": {
      "image/png": "[encoded data removed]",
      "text/plain": [
       "<Figure size 432x288 with 1 Axes>"
      ]
     },
     "metadata": {
      "needs_background": "light"
     },
     "output_type": "display_data"
    },
    {
     "data": {
      "image/png": "[encoded data removed]",
      "text/plain": [
       "<Figure size 432x288 with 1 Axes>"
      ]
     },
     "metadata": {
      "needs_background": "light"
     },
     "output_type": "display_data"
    },
    {
     "data": {
      "image/png": "[encoded data removed]",
      "text/plain": [
       "<Figure size 432x288 with 1 Axes>"
      ]
     },
     "metadata": {
      "needs_background": "light"
     },
     "output_type": "display_data"
    },
    {
     "data": {
      "image/png": "[encoded data removed]",
      "text/plain": [
       "<Figure size 432x288 with 1 Axes>"
      ]
     },
     "metadata": {
      "needs_background": "light"
     },
     "output_type": "display_data"
    },
    {
     "data": {
      "image/png": "[encoded data removed]",
      "text/plain": [
       "<Figure size 432x288 with 1 Axes>"
      ]
     },
     "metadata": {
      "needs_background": "light"
     },
     "output_type": "display_data"
    },
    {
     "data": {
      "image/png": "[encoded data removed]",
      "text/plain": [
       "<Figure size 432x288 with 1 Axes>"
      ]
     },
     "metadata": {
      "needs_background": "light"
     },
     "output_type": "display_data"
    },
    {
     "data": {
      "image/png": "[encoded data removed]",
      "text/plain": [
       "<Figure size 432x288 with 1 Axes>"
      ]
     },
     "metadata": {
      "needs_background": "light"
     },
     "output_type": "display_data"
    },
    {
     "data": {
      "image/png": "[encoded data removed]",
      "text/plain": [
       "<Figure size 432x288 with 1 Axes>"
      ]
     },
     "metadata": {
      "needs_background": "light"
     },
     "output_type": "display_data"
    },
    {
     "data": {
      "image/png": "[encoded data removed]",
      "text/plain": [
       "<Figure size 432x288 with 1 Axes>"
      ]
     },
     "metadata": {
      "needs_background": "light"
     },
     "output_type": "display_data"
    },
    {
     "data": {
      "image/png": "[encoded data removed]",
      "text/plain": [
       "<Figure size 432x288 with 1 Axes>"
      ]
     },
     "metadata": {
      "needs_background": "light"
     },
     "output_type": "display_data"
    },
    {
     "data": {
      "image/png": "[encoded data removed]",
      "text/plain": [
       "<Figure size 432x288 with 1 Axes>"
      ]
     },
     "metadata": {
      "needs_background": "light"
     },
     "output_type": "display_data"
    },
    {
     "data": {
      "image/png": "[encoded data removed]",
      "text/plain": [
       "<Figure size 432x288 with 1 Axes>"
      ]
     },
     "metadata": {
      "needs_background": "light"
     },
     "output_type": "display_data"
    },
    {
     "data": {
      "image/png": "[encoded data removed]",
      "text/plain": [
       "<Figure size 432x288 with 1 Axes>"
      ]
     },
     "metadata": {
      "needs_background": "light"
     },
     "output_type": "display_data"
    },
    {
     "data": {
      "image/png": "[encoded data removed]",
      "text/plain": [
       "<Figure size 432x288 with 1 Axes>"
      ]
     },
     "metadata": {
      "needs_background": "light"
     },
     "output_type": "display_data"
    },
    {
     "data": {
      "image/png": "[encoded data removed]",
      "text/plain": [
       "<Figure size 432x288 with 1 Axes>"
      ]
     },
     "metadata": {
      "needs_background": "light"
     },
     "output_type": "display_data"
    },
    {
     "data": {
      "image/png": "[encoded data removed]",
      "text/plain": [
       "<Figure size 432x288 with 1 Axes>"
      ]
     },
     "metadata": {
      "needs_background": "light"
     },
     "output_type": "display_data"
    },
    {
     "data": {
      "image/png": "[encoded data removed]",
      "text/plain": [
       "<Figure size 432x288 with 1 Axes>"
      ]
     },
     "metadata": {
      "needs_background": "light"
     },
     "output_type": "display_data"
    },
    {
     "data": {
      "text/html": [
       "<div>\n",
       "<style scoped>\n",
       "    .dataframe tbody tr th:only-of-type {\n",
       "        vertical-align: middle;\n",
       "    }\n",
       "\n",
       "    .dataframe tbody tr th {\n",
       "        vertical-align: top;\n",
       "    }\n",
       "\n",
       "    .dataframe thead th {\n",
       "        text-align: right;\n",
       "    }\n",
       "</style>\n",
       "<table border=\"1\" class=\"dataframe\">\n",
       "  <thead>\n",
       "    <tr style=\"text-align: right;\">\n",
       "      <th></th>\n",
       "      <th>Project</th>\n",
       "      <th>orderid</th>\n",
       "      <th>ClientID</th>\n",
       "      <th>ShortTermAmount</th>\n",
       "      <th>ShortTermPeriod</th>\n",
       "      <th>LongTermAmount</th>\n",
       "      <th>LongTermPeriod</th>\n",
       "      <th>RequestedAmount</th>\n",
       "      <th>RequestedPeriod</th>\n",
       "      <th>LoanSum</th>\n",
       "      <th>Period</th>\n",
       "      <th>ShortTermScore</th>\n",
       "      <th>LongTermScore</th>\n",
       "    </tr>\n",
       "  </thead>\n",
       "  <tbody>\n",
       "    <tr>\n",
       "      <th>count</th>\n",
       "      <td>27384.000000</td>\n",
       "      <td>2.738400e+04</td>\n",
       "      <td>2.738400e+04</td>\n",
       "      <td>27384.000000</td>\n",
       "      <td>27384.000000</td>\n",
       "      <td>27384.000000</td>\n",
       "      <td>27384.000000</td>\n",
       "      <td>27384.000000</td>\n",
       "      <td>27384.000000</td>\n",
       "      <td>27384.000000</td>\n",
       "      <td>27384.000000</td>\n",
       "      <td>27384.000000</td>\n",
       "      <td>27384.000000</td>\n",
       "    </tr>\n",
       "    <tr>\n",
       "      <th>mean</th>\n",
       "      <td>0.137672</td>\n",
       "      <td>3.854944e+06</td>\n",
       "      <td>3.393809e+06</td>\n",
       "      <td>13375.350570</td>\n",
       "      <td>39.473269</td>\n",
       "      <td>11745.245399</td>\n",
       "      <td>36.198364</td>\n",
       "      <td>16934.688139</td>\n",
       "      <td>51.438723</td>\n",
       "      <td>9280.321903</td>\n",
       "      <td>29.124343</td>\n",
       "      <td>0.768575</td>\n",
       "      <td>0.730378</td>\n",
       "    </tr>\n",
       "    <tr>\n",
       "      <th>std</th>\n",
       "      <td>0.344561</td>\n",
       "      <td>8.226365e+05</td>\n",
       "      <td>1.207668e+06</td>\n",
       "      <td>5151.047472</td>\n",
       "      <td>2.237239</td>\n",
       "      <td>9689.637243</td>\n",
       "      <td>29.414887</td>\n",
       "      <td>17502.861072</td>\n",
       "      <td>54.984062</td>\n",
       "      <td>6064.123995</td>\n",
       "      <td>16.735572</td>\n",
       "      <td>0.166172</td>\n",
       "      <td>0.177016</td>\n",
       "    </tr>\n",
       "    <tr>\n",
       "      <th>min</th>\n",
       "      <td>0.000000</td>\n",
       "      <td>1.786991e+06</td>\n",
       "      <td>2.786000e+03</td>\n",
       "      <td>4000.000000</td>\n",
       "      <td>30.000000</td>\n",
       "      <td>0.000000</td>\n",
       "      <td>0.000000</td>\n",
       "      <td>1500.000000</td>\n",
       "      <td>10.000000</td>\n",
       "      <td>1500.000000</td>\n",
       "      <td>10.000000</td>\n",
       "      <td>0.000000</td>\n",
       "      <td>0.000000</td>\n",
       "    </tr>\n",
       "    <tr>\n",
       "      <th>25%</th>\n",
       "      <td>0.000000</td>\n",
       "      <td>4.154228e+06</td>\n",
       "      <td>2.595656e+06</td>\n",
       "      <td>8875.000000</td>\n",
       "      <td>40.000000</td>\n",
       "      <td>0.000000</td>\n",
       "      <td>0.000000</td>\n",
       "      <td>5000.000000</td>\n",
       "      <td>15.000000</td>\n",
       "      <td>4600.000000</td>\n",
       "      <td>15.000000</td>\n",
       "      <td>0.672085</td>\n",
       "      <td>0.611428</td>\n",
       "    </tr>\n",
       "    <tr>\n",
       "      <th>50%</th>\n",
       "      <td>0.000000</td>\n",
       "      <td>4.179198e+06</td>\n",
       "      <td>3.997114e+06</td>\n",
       "      <td>14500.000000</td>\n",
       "      <td>40.000000</td>\n",
       "      <td>15300.000000</td>\n",
       "      <td>56.000000</td>\n",
       "      <td>10500.000000</td>\n",
       "      <td>30.000000</td>\n",
       "      <td>8050.000000</td>\n",
       "      <td>30.000000</td>\n",
       "      <td>0.812124</td>\n",
       "      <td>0.760388</td>\n",
       "    </tr>\n",
       "    <tr>\n",
       "      <th>75%</th>\n",
       "      <td>0.000000</td>\n",
       "      <td>4.199482e+06</td>\n",
       "      <td>4.377327e+06</td>\n",
       "      <td>19000.000000</td>\n",
       "      <td>40.000000</td>\n",
       "      <td>19600.000000</td>\n",
       "      <td>56.000000</td>\n",
       "      <td>20000.000000</td>\n",
       "      <td>40.000000</td>\n",
       "      <td>13000.000000</td>\n",
       "      <td>40.000000</td>\n",
       "      <td>0.899994</td>\n",
       "      <td>0.877554</td>\n",
       "    </tr>\n",
       "    <tr>\n",
       "      <th>max</th>\n",
       "      <td>1.000000</td>\n",
       "      <td>4.220706e+06</td>\n",
       "      <td>4.457686e+06</td>\n",
       "      <td>25300.000000</td>\n",
       "      <td>56.000000</td>\n",
       "      <td>45000.000000</td>\n",
       "      <td>168.000000</td>\n",
       "      <td>70000.000000</td>\n",
       "      <td>168.000000</td>\n",
       "      <td>70000.000000</td>\n",
       "      <td>168.000000</td>\n",
       "      <td>0.993837</td>\n",
       "      <td>0.993837</td>\n",
       "    </tr>\n",
       "  </tbody>\n",
       "</table>\n",
       "</div>"
      ],
      "text/plain": [
       "            Project       orderid      ClientID  ShortTermAmount  \\\n",
       "count  27384.000000  2.738400e+04  2.738400e+04     27384.000000   \n",
       "mean       0.137672  3.854944e+06  3.393809e+06     13375.350570   \n",
       "std        0.344561  8.226365e+05  1.207668e+06      5151.047472   \n",
       "min        0.000000  1.786991e+06  2.786000e+03      4000.000000   \n",
       "25%        0.000000  4.154228e+06  2.595656e+06      8875.000000   \n",
       "50%        0.000000  4.179198e+06  3.997114e+06     14500.000000   \n",
       "75%        0.000000  4.199482e+06  4.377327e+06     19000.000000   \n",
       "max        1.000000  4.220706e+06  4.457686e+06     25300.000000   \n",
       "\n",
       "       ShortTermPeriod  LongTermAmount  LongTermPeriod  RequestedAmount  \\\n",
       "count     27384.000000    27384.000000    27384.000000     27384.000000   \n",
       "mean         39.473269    11745.245399       36.198364     16934.688139   \n",
       "std           2.237239     9689.637243       29.414887     17502.861072   \n",
       "min          30.000000        0.000000        0.000000      1500.000000   \n",
       "25%          40.000000        0.000000        0.000000      5000.000000   \n",
       "50%          40.000000    15300.000000       56.000000     10500.000000   \n",
       "75%          40.000000    19600.000000       56.000000     20000.000000   \n",
       "max          56.000000    45000.000000      168.000000     70000.000000   \n",
       "\n",
       "       RequestedPeriod       LoanSum        Period  ShortTermScore  \\\n",
       "count     27384.000000  27384.000000  27384.000000    27384.000000   \n",
       "mean         51.438723   9280.321903     29.124343        0.768575   \n",
       "std          54.984062   6064.123995     16.735572        0.166172   \n",
       "min          10.000000   1500.000000     10.000000        0.000000   \n",
       "25%          15.000000   4600.000000     15.000000        0.672085   \n",
       "50%          30.000000   8050.000000     30.000000        0.812124   \n",
       "75%          40.000000  13000.000000     40.000000        0.899994   \n",
       "max         168.000000  70000.000000    168.000000        0.993837   \n",
       "\n",
       "       LongTermScore  \n",
       "count   27384.000000  \n",
       "mean        0.730378  \n",
       "std         0.177016  \n",
       "min         0.000000  \n",
       "25%         0.611428  \n",
       "50%         0.760388  \n",
       "75%         0.877554  \n",
       "max         0.993837  "
      ]
     },
     "execution_count": 13,
     "metadata": {},
     "output_type": "execute_result"
    }
   ],
   "source": [
    "for i in feature_columns:\n",
    "    plt.figure()\n",
    "    plt.grid()\n",
    "    plt.hist(df_loaned[i])\n",
    "    plt.title(i)\n",
    "    plt.show()\n",
    "    plt.boxplot(df_loaned[i])\n",
    "    plt.grid()\n",
    "    plt.title(i)\n",
    "    plt.show()\n",
    "\n",
    "df_loaned.describe()"
   ]
  },
  {
   "cell_type": "code",
   "execution_count": 14,
   "metadata": {},
   "outputs": [
    {
     "data": {
      "image/png": "[encoded data removed]",
      "text/plain": [
       "<Figure size 432x288 with 1 Axes>"
      ]
     },
     "metadata": {
      "needs_background": "light"
     },
     "output_type": "display_data"
    },
    {
     "data": {
      "image/png": "[encoded data removed]",
      "text/plain": [
       "<Figure size 432x288 with 1 Axes>"
      ]
     },
     "metadata": {
      "needs_background": "light"
     },
     "output_type": "display_data"
    },
    {
     "data": {
      "image/png": "[encoded data removed]",
      "text/plain": [
       "<Figure size 432x288 with 1 Axes>"
      ]
     },
     "metadata": {
      "needs_background": "light"
     },
     "output_type": "display_data"
    },
    {
     "data": {
      "image/png": "[encoded data removed]",
      "text/plain": [
       "<Figure size 432x288 with 1 Axes>"
      ]
     },
     "metadata": {
      "needs_background": "light"
     },
     "output_type": "display_data"
    },
    {
     "data": {
      "image/png": "[encoded data removed]",
      "text/plain": [
       "<Figure size 432x288 with 1 Axes>"
      ]
     },
     "metadata": {
      "needs_background": "light"
     },
     "output_type": "display_data"
    },
    {
     "data": {
      "image/png": "[encoded data removed]",
      "text/plain": [
       "<Figure size 432x288 with 1 Axes>"
      ]
     },
     "metadata": {
      "needs_background": "light"
     },
     "output_type": "display_data"
    },
    {
     "data": {
      "image/png": "[encoded data removed]",
      "text/plain": [
       "<Figure size 432x288 with 1 Axes>"
      ]
     },
     "metadata": {
      "needs_background": "light"
     },
     "output_type": "display_data"
    },
    {
     "data": {
      "image/png": "[encoded data removed]",
      "text/plain": [
       "<Figure size 432x288 with 1 Axes>"
      ]
     },
     "metadata": {
      "needs_background": "light"
     },
     "output_type": "display_data"
    },
    {
     "data": {
      "image/png": "[encoded data removed]",
      "text/plain": [
       "<Figure size 432x288 with 1 Axes>"
      ]
     },
     "metadata": {
      "needs_background": "light"
     },
     "output_type": "display_data"
    },
    {
     "data": {
      "image/png": "[encoded data removed]",
      "text/plain": [
       "<Figure size 432x288 with 1 Axes>"
      ]
     },
     "metadata": {
      "needs_background": "light"
     },
     "output_type": "display_data"
    },
    {
     "data": {
      "image/png": "[encoded data removed]",
      "text/plain": [
       "<Figure size 432x288 with 1 Axes>"
      ]
     },
     "metadata": {
      "needs_background": "light"
     },
     "output_type": "display_data"
    },
    {
     "data": {
      "image/png": "[encoded data removed]",
      "text/plain": [
       "<Figure size 432x288 with 1 Axes>"
      ]
     },
     "metadata": {
      "needs_background": "light"
     },
     "output_type": "display_data"
    },
    {
     "data": {
      "image/png": "[encoded data removed]",
      "text/plain": [
       "<Figure size 432x288 with 1 Axes>"
      ]
     },
     "metadata": {
      "needs_background": "light"
     },
     "output_type": "display_data"
    },
    {
     "data": {
      "image/png": "[encoded data removed]",
      "text/plain": [
       "<Figure size 432x288 with 1 Axes>"
      ]
     },
     "metadata": {
      "needs_background": "light"
     },
     "output_type": "display_data"
    },
    {
     "data": {
      "image/png": "[encoded data removed]",
      "text/plain": [
       "<Figure size 432x288 with 1 Axes>"
      ]
     },
     "metadata": {
      "needs_background": "light"
     },
     "output_type": "display_data"
    },
    {
     "data": {
      "image/png": "[encoded data removed]",
      "text/plain": [
       "<Figure size 432x288 with 1 Axes>"
      ]
     },
     "metadata": {
      "needs_background": "light"
     },
     "output_type": "display_data"
    },
    {
     "data": {
      "image/png": "[encoded data removed]",
      "text/plain": [
       "<Figure size 432x288 with 1 Axes>"
      ]
     },
     "metadata": {
      "needs_background": "light"
     },
     "output_type": "display_data"
    },
    {
     "data": {
      "image/png": "[encoded data removed]",
      "text/plain": [
       "<Figure size 432x288 with 1 Axes>"
      ]
     },
     "metadata": {
      "needs_background": "light"
     },
     "output_type": "display_data"
    },
    {
     "data": {
      "image/png": "[encoded data removed]",
      "text/plain": [
       "<Figure size 432x288 with 1 Axes>"
      ]
     },
     "metadata": {
      "needs_background": "light"
     },
     "output_type": "display_data"
    },
    {
     "data": {
      "image/png": "[encoded data removed]",
      "text/plain": [
       "<Figure size 432x288 with 1 Axes>"
      ]
     },
     "metadata": {
      "needs_background": "light"
     },
     "output_type": "display_data"
    },
    {
     "data": {
      "text/html": [
       "<div>\n",
       "<style scoped>\n",
       "    .dataframe tbody tr th:only-of-type {\n",
       "        vertical-align: middle;\n",
       "    }\n",
       "\n",
       "    .dataframe tbody tr th {\n",
       "        vertical-align: top;\n",
       "    }\n",
       "\n",
       "    .dataframe thead th {\n",
       "        text-align: right;\n",
       "    }\n",
       "</style>\n",
       "<table border=\"1\" class=\"dataframe\">\n",
       "  <thead>\n",
       "    <tr style=\"text-align: right;\">\n",
       "      <th></th>\n",
       "      <th>Project</th>\n",
       "      <th>orderid</th>\n",
       "      <th>ClientID</th>\n",
       "      <th>ShortTermAmount</th>\n",
       "      <th>ShortTermPeriod</th>\n",
       "      <th>LongTermAmount</th>\n",
       "      <th>LongTermPeriod</th>\n",
       "      <th>RequestedAmount</th>\n",
       "      <th>RequestedPeriod</th>\n",
       "      <th>LoanSum</th>\n",
       "      <th>Period</th>\n",
       "      <th>ShortTermScore</th>\n",
       "      <th>LongTermScore</th>\n",
       "    </tr>\n",
       "  </thead>\n",
       "  <tbody>\n",
       "    <tr>\n",
       "      <th>count</th>\n",
       "      <td>66787.000000</td>\n",
       "      <td>6.678700e+04</td>\n",
       "      <td>6.678700e+04</td>\n",
       "      <td>66787.000000</td>\n",
       "      <td>66787.000000</td>\n",
       "      <td>66787.000000</td>\n",
       "      <td>66787.000000</td>\n",
       "      <td>66787.000000</td>\n",
       "      <td>66787.000000</td>\n",
       "      <td>66787.0</td>\n",
       "      <td>66787.0</td>\n",
       "      <td>66787.000000</td>\n",
       "      <td>66787.000000</td>\n",
       "    </tr>\n",
       "    <tr>\n",
       "      <th>mean</th>\n",
       "      <td>0.211658</td>\n",
       "      <td>3.675829e+06</td>\n",
       "      <td>3.316965e+06</td>\n",
       "      <td>764.788058</td>\n",
       "      <td>2.302095</td>\n",
       "      <td>651.941246</td>\n",
       "      <td>2.009852</td>\n",
       "      <td>13117.263839</td>\n",
       "      <td>42.344348</td>\n",
       "      <td>0.0</td>\n",
       "      <td>0.0</td>\n",
       "      <td>0.167740</td>\n",
       "      <td>0.170618</td>\n",
       "    </tr>\n",
       "    <tr>\n",
       "      <th>std</th>\n",
       "      <td>0.408487</td>\n",
       "      <td>9.741533e+05</td>\n",
       "      <td>1.324934e+06</td>\n",
       "      <td>3333.856775</td>\n",
       "      <td>9.254674</td>\n",
       "      <td>3545.122031</td>\n",
       "      <td>10.905873</td>\n",
       "      <td>14978.911245</td>\n",
       "      <td>48.622099</td>\n",
       "      <td>0.0</td>\n",
       "      <td>0.0</td>\n",
       "      <td>0.227675</td>\n",
       "      <td>0.226176</td>\n",
       "    </tr>\n",
       "    <tr>\n",
       "      <th>min</th>\n",
       "      <td>0.000000</td>\n",
       "      <td>1.786974e+06</td>\n",
       "      <td>2.398000e+03</td>\n",
       "      <td>0.000000</td>\n",
       "      <td>0.000000</td>\n",
       "      <td>0.000000</td>\n",
       "      <td>0.000000</td>\n",
       "      <td>1500.000000</td>\n",
       "      <td>10.000000</td>\n",
       "      <td>0.0</td>\n",
       "      <td>0.0</td>\n",
       "      <td>0.000000</td>\n",
       "      <td>0.000000</td>\n",
       "    </tr>\n",
       "    <tr>\n",
       "      <th>25%</th>\n",
       "      <td>0.000000</td>\n",
       "      <td>4.145450e+06</td>\n",
       "      <td>1.977790e+06</td>\n",
       "      <td>0.000000</td>\n",
       "      <td>0.000000</td>\n",
       "      <td>0.000000</td>\n",
       "      <td>0.000000</td>\n",
       "      <td>4000.000000</td>\n",
       "      <td>14.000000</td>\n",
       "      <td>0.0</td>\n",
       "      <td>0.0</td>\n",
       "      <td>0.009121</td>\n",
       "      <td>0.009035</td>\n",
       "    </tr>\n",
       "    <tr>\n",
       "      <th>50%</th>\n",
       "      <td>0.000000</td>\n",
       "      <td>4.169149e+06</td>\n",
       "      <td>4.074427e+06</td>\n",
       "      <td>0.000000</td>\n",
       "      <td>0.000000</td>\n",
       "      <td>0.000000</td>\n",
       "      <td>0.000000</td>\n",
       "      <td>8500.000000</td>\n",
       "      <td>26.000000</td>\n",
       "      <td>0.0</td>\n",
       "      <td>0.0</td>\n",
       "      <td>0.074975</td>\n",
       "      <td>0.075136</td>\n",
       "    </tr>\n",
       "    <tr>\n",
       "      <th>75%</th>\n",
       "      <td>0.000000</td>\n",
       "      <td>4.194581e+06</td>\n",
       "      <td>4.420866e+06</td>\n",
       "      <td>0.000000</td>\n",
       "      <td>0.000000</td>\n",
       "      <td>0.000000</td>\n",
       "      <td>0.000000</td>\n",
       "      <td>15000.000000</td>\n",
       "      <td>39.000000</td>\n",
       "      <td>0.0</td>\n",
       "      <td>0.0</td>\n",
       "      <td>0.227919</td>\n",
       "      <td>0.237931</td>\n",
       "    </tr>\n",
       "    <tr>\n",
       "      <th>max</th>\n",
       "      <td>1.000000</td>\n",
       "      <td>4.220709e+06</td>\n",
       "      <td>4.457704e+06</td>\n",
       "      <td>20000.000000</td>\n",
       "      <td>40.000000</td>\n",
       "      <td>45000.000000</td>\n",
       "      <td>168.000000</td>\n",
       "      <td>70000.000000</td>\n",
       "      <td>168.000000</td>\n",
       "      <td>0.0</td>\n",
       "      <td>0.0</td>\n",
       "      <td>0.992363</td>\n",
       "      <td>0.992363</td>\n",
       "    </tr>\n",
       "  </tbody>\n",
       "</table>\n",
       "</div>"
      ],
      "text/plain": [
       "            Project       orderid      ClientID  ShortTermAmount  \\\n",
       "count  66787.000000  6.678700e+04  6.678700e+04     66787.000000   \n",
       "mean       0.211658  3.675829e+06  3.316965e+06       764.788058   \n",
       "std        0.408487  9.741533e+05  1.324934e+06      3333.856775   \n",
       "min        0.000000  1.786974e+06  2.398000e+03         0.000000   \n",
       "25%        0.000000  4.145450e+06  1.977790e+06         0.000000   \n",
       "50%        0.000000  4.169149e+06  4.074427e+06         0.000000   \n",
       "75%        0.000000  4.194581e+06  4.420866e+06         0.000000   \n",
       "max        1.000000  4.220709e+06  4.457704e+06     20000.000000   \n",
       "\n",
       "       ShortTermPeriod  LongTermAmount  LongTermPeriod  RequestedAmount  \\\n",
       "count     66787.000000    66787.000000    66787.000000     66787.000000   \n",
       "mean          2.302095      651.941246        2.009852     13117.263839   \n",
       "std           9.254674     3545.122031       10.905873     14978.911245   \n",
       "min           0.000000        0.000000        0.000000      1500.000000   \n",
       "25%           0.000000        0.000000        0.000000      4000.000000   \n",
       "50%           0.000000        0.000000        0.000000      8500.000000   \n",
       "75%           0.000000        0.000000        0.000000     15000.000000   \n",
       "max          40.000000    45000.000000      168.000000     70000.000000   \n",
       "\n",
       "       RequestedPeriod  LoanSum   Period  ShortTermScore  LongTermScore  \n",
       "count     66787.000000  66787.0  66787.0    66787.000000   66787.000000  \n",
       "mean         42.344348      0.0      0.0        0.167740       0.170618  \n",
       "std          48.622099      0.0      0.0        0.227675       0.226176  \n",
       "min          10.000000      0.0      0.0        0.000000       0.000000  \n",
       "25%          14.000000      0.0      0.0        0.009121       0.009035  \n",
       "50%          26.000000      0.0      0.0        0.074975       0.075136  \n",
       "75%          39.000000      0.0      0.0        0.227919       0.237931  \n",
       "max         168.000000      0.0      0.0        0.992363       0.992363  "
      ]
     },
     "execution_count": 14,
     "metadata": {},
     "output_type": "execute_result"
    }
   ],
   "source": [
    "for i in feature_columns:\n",
    "    plt.figure()\n",
    "    plt.grid()\n",
    "    plt.hist(df_declined[i])\n",
    "    plt.title(i)\n",
    "    plt.show()\n",
    "    plt.boxplot(df_declined[i])\n",
    "    plt.grid()\n",
    "    plt.title(i)\n",
    "    plt.show()\n",
    "\n",
    "df_declined.describe()"
   ]
  },
  {
   "cell_type": "markdown",
   "metadata": {},
   "source": [
    "# Работа с данными"
   ]
  },
  {
   "cell_type": "markdown",
   "metadata": {},
   "source": [
    "Найдем долю авторассмотрений относительно общего числа заявок."
   ]
  },
  {
   "cell_type": "code",
   "execution_count": 15,
   "metadata": {},
   "outputs": [
    {
     "name": "stdout",
     "output_type": "stream",
     "text": [
      "Доля автоматических решений 20.8 %\n",
      "Доля заявок с андеррайтингом 12.43 %\n",
      "Доля ручных заявок 16.79 %\n",
      "Доля заблокированных заявок 66.77 %\n"
     ]
    },
    {
     "data": {
      "text/plain": [
       "116.78999999999999"
      ]
     },
     "execution_count": 15,
     "metadata": {},
     "output_type": "execute_result"
    }
   ],
   "source": [
    "auto_decision_count = len(df[df['AutoDecision'] == True].index)\n",
    "manual_approvement_count = len(df[df['ManualApprove'] == True].index)\n",
    "manual_count = len(df[df['IsManual'] == True].index)\n",
    "blocked_count = len(df[df['IsBlocked'] == True].index)\n",
    "total_count = len(df.index)\n",
    "\n",
    "auto_proportion = round(auto_decision_count/total_count * 100, 2)\n",
    "manual_approvement_proportion = round(manual_approvement_count/total_count * 100, 2)\n",
    "manual_proportions = round(manual_count/total_count * 100, 2)\n",
    "blocked_proportion = round(blocked_count/total_count * 100, 2)\n",
    "\n",
    "print ('Доля автоматических решений', auto_proportion, '%')\n",
    "print ('Доля заявок с андеррайтингом', manual_approvement_proportion, '%')\n",
    "print ('Доля ручных заявок', manual_proportions, '%')\n",
    "print ('Доля заблокированных заявок', blocked_proportion, '%')\n",
    "\n",
    "auto_proportion + manual_approvement_proportion + manual_proportions + blocked_proportion\n"
   ]
  },
  {
   "cell_type": "markdown",
   "metadata": {},
   "source": [
    "Сумма 116,78% - похоже на то, что ручные заявки учтены в андеррайтинге и заблокированных заявках. "
   ]
  },
  {
   "cell_type": "code",
   "execution_count": 16,
   "metadata": {},
   "outputs": [
    {
     "name": "stdout",
     "output_type": "stream",
     "text": [
      "[False  True]\n",
      "[ True False]\n"
     ]
    }
   ],
   "source": [
    "print (df[df['IsManual'] == True]['IsBlocked'].unique())\n",
    "print (df[df['IsManual'] == True]['ManualApprove'].unique())\n"
   ]
  },
  {
   "cell_type": "markdown",
   "metadata": {},
   "source": [
    "Для удобства дальнейшей работы с данными, создадим новый признак \"type_of_decision\", в котором будем хранить значение способа рассмотрения заявки. "
   ]
  },
  {
   "cell_type": "code",
   "execution_count": 17,
   "metadata": {},
   "outputs": [],
   "source": [
    "type_of_decision = []\n",
    "for i in range(len(df.index)):\n",
    "    if df['AutoDecision'][i] == True:\n",
    "        type_of_decision.append('auto')\n",
    "    elif df['ManualApprove'][i] == True:\n",
    "        type_of_decision.append('manual')\n",
    "    elif df['IsManual'][i] == True  and df['IsBlocked'][i] == True:\n",
    "        type_of_decision.append('manual_block')\n",
    "    elif df['IsBlocked'][i] == True:\n",
    "        type_of_decision.append('blocked')\n",
    "    else:\n",
    "        type_of_decision.append('unknown')\n",
    "df['type_of_decision'] = type_of_decision"
   ]
  },
  {
   "cell_type": "markdown",
   "metadata": {},
   "source": [
    "Посмотрим на распределение количества заявок, по способу рассмотрения. "
   ]
  },
  {
   "cell_type": "code",
   "execution_count": 87,
   "metadata": {},
   "outputs": [
    {
     "data": {
      "text/plain": [
       "([<matplotlib.patches.Wedge at 0x7f7de88627f0>,\n",
       "  <matplotlib.patches.Wedge at 0x7f7de8862d60>,\n",
       "  <matplotlib.patches.Wedge at 0x7f7de885c280>,\n",
       "  <matplotlib.patches.Wedge at 0x7f7de885c760>,\n",
       "  <matplotlib.patches.Wedge at 0x7f7de885cc40>],\n",
       " [Text(0.8733128825647352, 0.6688233018865846, 'auto'),\n",
       "  Text(-1.0912885981588754, -0.13816365487506688, 'blocked'),\n",
       "  Text(0.8656707358411829, -0.6786856246511969, 'manual'),\n",
       "  Text(1.0896462972930425, -0.15056874441783277, 'manual_block'),\n",
       "  Text(1.0999999993917604, -3.658042085775663e-05, 'unknown')])"
      ]
     },
     "execution_count": 87,
     "metadata": {},
     "output_type": "execute_result"
    },
    {
     "data": {
      "image/png": "[encoded data removed]",
      "text/plain": [
       "<Figure size 432x288 with 1 Axes>"
      ]
     },
     "metadata": {},
     "output_type": "display_data"
    }
   ],
   "source": [
    "pivot_channels = pd.pivot_table(df, index= 'type_of_decision', values = 'ClientID', aggfunc='count').reset_index()\n",
    "pivot_channels\n",
    "plt.pie(pivot_channels['ClientID'], labels=pivot_channels['type_of_decision'])"
   ]
  },
  {
   "cell_type": "markdown",
   "metadata": {},
   "source": [
    "### Исследуем уровни одобрения заявок"
   ]
  },
  {
   "cell_type": "code",
   "execution_count": 77,
   "metadata": {},
   "outputs": [
    {
     "name": "stdout",
     "output_type": "stream",
     "text": [
      "общий уровень одобрения составляет: 33.22785146170265\n"
     ]
    }
   ],
   "source": [
    "approved_rate = len(df[(df['ShortTermAmount'] > 0) | (df['LongTermAmount'] > 0)].index)/total_count * 100\n",
    "print ('общий уровень одобрения составляет:', approved_rate)"
   ]
  },
  {
   "cell_type": "markdown",
   "metadata": {},
   "source": [
    "Посмотрим на уровень одобрения среди постоянных клиентов и нового траффика. Для этого введем новый признак 'is_approved', принамающий значение True, в случае, если была одобрена сумма отличная от нуля или на краткосрочный займ, или на долгосрочный займ. "
   ]
  },
  {
   "cell_type": "code",
   "execution_count": 74,
   "metadata": {},
   "outputs": [
    {
     "data": {
      "text/html": [
       "<div>\n",
       "<style scoped>\n",
       "    .dataframe tbody tr th:only-of-type {\n",
       "        vertical-align: middle;\n",
       "    }\n",
       "\n",
       "    .dataframe tbody tr th {\n",
       "        vertical-align: top;\n",
       "    }\n",
       "\n",
       "    .dataframe thead th {\n",
       "        text-align: right;\n",
       "    }\n",
       "</style>\n",
       "<table border=\"1\" class=\"dataframe\">\n",
       "  <thead>\n",
       "    <tr style=\"text-align: right;\">\n",
       "      <th></th>\n",
       "      <th>IsRepeat</th>\n",
       "      <th>is_approved</th>\n",
       "    </tr>\n",
       "  </thead>\n",
       "  <tbody>\n",
       "    <tr>\n",
       "      <th>0</th>\n",
       "      <td>False</td>\n",
       "      <td>0.172915</td>\n",
       "    </tr>\n",
       "    <tr>\n",
       "      <th>1</th>\n",
       "      <td>True</td>\n",
       "      <td>1.000000</td>\n",
       "    </tr>\n",
       "  </tbody>\n",
       "</table>\n",
       "</div>"
      ],
      "text/plain": [
       "   IsRepeat  is_approved\n",
       "0     False     0.172915\n",
       "1      True     1.000000"
      ]
     },
     "execution_count": 74,
     "metadata": {},
     "output_type": "execute_result"
    }
   ],
   "source": [
    "df['is_approved'] = (df['ShortTermAmount'] > 0) | (df['LongTermAmount'] > 0)\n",
    "pivot_is_approved = pd.pivot_table(df, index = 'IsRepeat', values='is_approved', aggfunc='mean').reset_index()\n",
    "pivot_is_approved"
   ]
  },
  {
   "cell_type": "markdown",
   "metadata": {},
   "source": [
    "Видим, что процент одобрений для постоянных клиентов = 100%, проверим, каким образом распределены способы принятий решений в когорте постоянных клиентов."
   ]
  },
  {
   "cell_type": "code",
   "execution_count": 75,
   "metadata": {},
   "outputs": [
    {
     "data": {
      "text/html": [
       "<div>\n",
       "<style scoped>\n",
       "    .dataframe tbody tr th:only-of-type {\n",
       "        vertical-align: middle;\n",
       "    }\n",
       "\n",
       "    .dataframe tbody tr th {\n",
       "        vertical-align: top;\n",
       "    }\n",
       "\n",
       "    .dataframe thead th {\n",
       "        text-align: right;\n",
       "    }\n",
       "</style>\n",
       "<table border=\"1\" class=\"dataframe\">\n",
       "  <thead>\n",
       "    <tr style=\"text-align: right;\">\n",
       "      <th></th>\n",
       "      <th>type_of_decision</th>\n",
       "      <th>is_approved</th>\n",
       "    </tr>\n",
       "  </thead>\n",
       "  <tbody>\n",
       "    <tr>\n",
       "      <th>0</th>\n",
       "      <td>auto</td>\n",
       "      <td>12804</td>\n",
       "    </tr>\n",
       "    <tr>\n",
       "      <th>1</th>\n",
       "      <td>manual</td>\n",
       "      <td>5341</td>\n",
       "    </tr>\n",
       "  </tbody>\n",
       "</table>\n",
       "</div>"
      ],
      "text/plain": [
       "  type_of_decision  is_approved\n",
       "0             auto        12804\n",
       "1           manual         5341"
      ]
     },
     "execution_count": 75,
     "metadata": {},
     "output_type": "execute_result"
    }
   ],
   "source": [
    "pivot_is_approved_channels = pd.pivot_table(df[df['IsRepeat'] == True], index = 'type_of_decision', values='is_approved', aggfunc='count').reset_index()\n",
    "pivot_is_approved_channels"
   ]
  },
  {
   "cell_type": "markdown",
   "metadata": {},
   "source": [
    "Для постоянных клиентов доля ручных рассмотрений составляет примерно 30%. При том, что 100% заявок одобрены. Это явная точка для оптимизации процессов. \n",
    "Проверим, что так продолжается до сих пор. Возьмем максимальную дату по заявке, где тип рассмотрения = ручной, постоянный клиент = true и сравним с максимальной датой заявки во всем датафрейме"
   ]
  },
  {
   "cell_type": "code",
   "execution_count": 24,
   "metadata": {},
   "outputs": [
    {
     "name": "stdout",
     "output_type": "stream",
     "text": [
      "Последняя дата выдачи займа ручному клиенту с андеррайтингом: 2020-07-09 18:34:17.991000\n",
      "Последняя дата выдачи займа: 2020-07-09 20:08:24.925000\n"
     ]
    }
   ],
   "source": [
    "print ('Последняя дата выдачи займа ручному клиенту с андеррайтингом:',max (df[(df['type_of_decision'] == 'manual') & (df['IsRepeat'] == True)]['OrderDate']))\n",
    "print ('Последняя дата выдачи займа:', max(df['OrderDate']))"
   ]
  },
  {
   "cell_type": "markdown",
   "metadata": {},
   "source": [
    "Также, дополнительно убедимся в том, что для постоянных клиентов нет отказов со статусом 'blocked'. "
   ]
  },
  {
   "cell_type": "code",
   "execution_count": 76,
   "metadata": {},
   "outputs": [
    {
     "name": "stdout",
     "output_type": "stream",
     "text": [
      "Количество заблокированных постоянных клиентов: 0\n"
     ]
    }
   ],
   "source": [
    "print('Количество заблокированных постоянных клиентов:', len(df[(df['IsRepeat'] == True) & (df['IsBlocked'] == True)].index))"
   ]
  },
  {
   "cell_type": "markdown",
   "metadata": {},
   "source": [
    "В приведенном датафрейме все постоянные кликенты получили одобрение. При этом 30% заявок были рассмотрены с привлечением сотрудников компании. \n",
    "Данные позволяют сформулировать гипотезу о том, что всех постоянных клиентов можно рассматривать автоматически."
   ]
  },
  {
   "cell_type": "markdown",
   "metadata": {},
   "source": [
    "Вернемся к уровням одобрения среди нового траффика. \n",
    "Доля отказов среди нового бизнеса составляет 83%. \n",
    "\n",
    "На первый взгляд, rejection rate выглядит высоким. Стоит обратить внимание и провести исследование бенчмарков на рынке и, возможно, провести ревью каналов привлечения нового бизнеса. \n",
    "\n",
    "Вот, например, данные по отказам в кредитах в Нью Йорке за 2021 год (с понятными допущениями о том, что это другой рынок и другой продукт): \n",
    "https://www.newyorkfed.org/newsevents/news/research/2021/20211122#:~:text=Rejection%20Rates,-Reported%20average%20rejection&text=The%20average%20rejection%20rate%20for,point%20to%203.7%25%20in%202021.\n",
    "\n",
    "Доля отказов в кредитах составляет ±25% в зависимости от вида кредитования. "
   ]
  },
  {
   "cell_type": "markdown",
   "metadata": {},
   "source": [
    "### Клиентские отказы от одобренных заявок"
   ]
  },
  {
   "cell_type": "markdown",
   "metadata": {},
   "source": [
    "Найдем количество клиентов, которые получили одобрение о займе со стороны компании, но не взяли займ. "
   ]
  },
  {
   "cell_type": "code",
   "execution_count": 89,
   "metadata": {},
   "outputs": [
    {
     "name": "stdout",
     "output_type": "stream",
     "text": [
      "Количество займов, которые не взял клиент: 3907\n",
      "Общее количество одобренных займов: 31291\n"
     ]
    }
   ],
   "source": [
    "print ('Количество займов, которые не взял клиент:',len(df[(df['is_approved'] == True) & (df['LoanSum'] == 0)].index))\n",
    "print ('Общее количество одобренных займов:', len(df[df['is_approved'] == True].index))"
   ]
  },
  {
   "cell_type": "markdown",
   "metadata": {},
   "source": [
    "Видно, что почти каждый 10 одобренный займ не выдается клиенту. \n",
    "Основные гипотезы, почему это так:\n",
    "1. Неудовлетворительные условия - сумма или срок\n",
    "2. Долгий срок рассмотрения заявки. -> клиент берет займ у конкурентов. "
   ]
  },
  {
   "cell_type": "markdown",
   "metadata": {},
   "source": [
    "Проанализируем, каким способом были рассмотрены заявки, в которых клиент отказался от займа. "
   ]
  },
  {
   "cell_type": "code",
   "execution_count": 90,
   "metadata": {},
   "outputs": [
    {
     "data": {
      "text/html": [
       "<div>\n",
       "<style scoped>\n",
       "    .dataframe tbody tr th:only-of-type {\n",
       "        vertical-align: middle;\n",
       "    }\n",
       "\n",
       "    .dataframe tbody tr th {\n",
       "        vertical-align: top;\n",
       "    }\n",
       "\n",
       "    .dataframe thead th {\n",
       "        text-align: right;\n",
       "    }\n",
       "</style>\n",
       "<table border=\"1\" class=\"dataframe\">\n",
       "  <thead>\n",
       "    <tr style=\"text-align: right;\">\n",
       "      <th></th>\n",
       "      <th>type_of_decision</th>\n",
       "      <th>is_approved</th>\n",
       "    </tr>\n",
       "  </thead>\n",
       "  <tbody>\n",
       "    <tr>\n",
       "      <th>0</th>\n",
       "      <td>auto</td>\n",
       "      <td>2086</td>\n",
       "    </tr>\n",
       "    <tr>\n",
       "      <th>1</th>\n",
       "      <td>manual</td>\n",
       "      <td>1821</td>\n",
       "    </tr>\n",
       "  </tbody>\n",
       "</table>\n",
       "</div>"
      ],
      "text/plain": [
       "  type_of_decision  is_approved\n",
       "0             auto         2086\n",
       "1           manual         1821"
      ]
     },
     "execution_count": 90,
     "metadata": {},
     "output_type": "execute_result"
    }
   ],
   "source": [
    "pivot_rejected_by_client = pd.pivot_table(df[(df['is_approved'] == True) & (df['LoanSum'] == 0)], index= 'type_of_decision', values='is_approved', aggfunc='count').reset_index()\n",
    "pivot_rejected_by_client"
   ]
  },
  {
   "cell_type": "markdown",
   "metadata": {},
   "source": [
    "Найдем долю отказов клиентов от в каждом из случаев. "
   ]
  },
  {
   "cell_type": "code",
   "execution_count": 101,
   "metadata": {},
   "outputs": [
    {
     "name": "stdout",
     "output_type": "stream",
     "text": [
      "Доля отказов среди ручных рассмотрений: 0.15562772412614306\n",
      "Доля отказов среди авто рассмотрений: 0.10647746414169772\n"
     ]
    }
   ],
   "source": [
    "# Сводная таблица заявок по каналам.\n",
    "approval_rate_by_channels = pd.pivot_table(df, index = df['type_of_decision'], values='is_approved', aggfunc=['count', 'sum']).reset_index()\n",
    "\n",
    "# Переменные для расчета уровня отказов среди ручных рассмотрений.\n",
    "manual_rejections_count = pivot_rejected_by_client[pivot_rejected_by_client['type_of_decision'] == 'manual']['is_approved'].reset_index(drop = True).values\n",
    "manual_approvals_count = approval_rate_by_channels[approval_rate_by_channels['type_of_decision'] == 'manual']['count']['is_approved'].reset_index(drop = True).values\n",
    "\n",
    "\n",
    "# Переменные для расчета уровня отказов среди авто рассмотрений.\n",
    "auto_rejections_count = pivot_rejected_by_client[pivot_rejected_by_client['type_of_decision'] == 'auto']['is_approved'].reset_index(drop = True).values\n",
    "auto_approvals_count = approval_rate_by_channels[approval_rate_by_channels['type_of_decision'] == 'auto']['count']['is_approved'].reset_index(drop = True).values\n",
    "\n",
    "manual_rejections_rate = manual_rejections_count/manual_approvals_count\n",
    "auto_rejections_rate = manual_rejections = auto_rejections_count/auto_approvals_count\n",
    "\n",
    "print ('Доля отказов среди ручных рассмотрений:', manual_rejections_rate[0])\n",
    "print ('Доля отказов среди авто рассмотрений:', auto_rejections_rate[0])"
   ]
  },
  {
   "cell_type": "markdown",
   "metadata": {},
   "source": [
    "Проведем тест статисчтической значимости с доверительным интервалом 95%. "
   ]
  },
  {
   "cell_type": "code",
   "execution_count": 102,
   "metadata": {},
   "outputs": [
    {
     "name": "stdout",
     "output_type": "stream",
     "text": [
      "Доверительный интервал конверсий отказов клиентов для ручного и авторассмотрений: (-5.701149301761296, -4.128902695127774)\n"
     ]
    }
   ],
   "source": [
    "print ('Доверительный интервал конверсий отказов клиентов для ручного и авторассмотрений:',trust_interval_conv(manual_rejections_rate[0], auto_rejections_rate[0], manual_approvals_count, auto_approvals_count, 1.96))"
   ]
  },
  {
   "cell_type": "markdown",
   "metadata": {},
   "source": [
    "Интервал не содержит 0, значит клиенты, рассматриваемые вручную статистически значимо чаще отказываются от предложений.\n",
    "Сравним условия, которые предлагаются клиентам по итогам рассмотрения заявок вручную и автоматически. "
   ]
  },
  {
   "cell_type": "code",
   "execution_count": 103,
   "metadata": {},
   "outputs": [],
   "source": [
    "approved_ammount_array = []\n",
    "for i in range(len(df.index)):\n",
    "    if df['ShortTermAmount'][i]>=df['LongTermAmount'][i]:\n",
    "        approved_ammount_array.append(df['ShortTermAmount'][i])\n",
    "    else:\n",
    "        approved_ammount_array.append(df['LongTermAmount'][i])\n",
    "df['max_approved_amount'] = approved_ammount_array"
   ]
  },
  {
   "cell_type": "code",
   "execution_count": 104,
   "metadata": {},
   "outputs": [
    {
     "data": {
      "text/html": [
       "<div>\n",
       "<style scoped>\n",
       "    .dataframe tbody tr th:only-of-type {\n",
       "        vertical-align: middle;\n",
       "    }\n",
       "\n",
       "    .dataframe tbody tr th {\n",
       "        vertical-align: top;\n",
       "    }\n",
       "\n",
       "    .dataframe thead th {\n",
       "        text-align: right;\n",
       "    }\n",
       "</style>\n",
       "<table border=\"1\" class=\"dataframe\">\n",
       "  <thead>\n",
       "    <tr style=\"text-align: right;\">\n",
       "      <th></th>\n",
       "      <th>LoanSum</th>\n",
       "      <th>RequestedAmount</th>\n",
       "      <th>max_approved_amount</th>\n",
       "    </tr>\n",
       "    <tr>\n",
       "      <th>type_of_decision</th>\n",
       "      <th></th>\n",
       "      <th></th>\n",
       "      <th></th>\n",
       "    </tr>\n",
       "  </thead>\n",
       "  <tbody>\n",
       "    <tr>\n",
       "      <th>auto</th>\n",
       "      <td>8050</td>\n",
       "      <td>10000</td>\n",
       "      <td>18400</td>\n",
       "    </tr>\n",
       "    <tr>\n",
       "      <th>manual</th>\n",
       "      <td>5750</td>\n",
       "      <td>14000</td>\n",
       "      <td>8500</td>\n",
       "    </tr>\n",
       "  </tbody>\n",
       "</table>\n",
       "</div>"
      ],
      "text/plain": [
       "                  LoanSum  RequestedAmount  max_approved_amount\n",
       "type_of_decision                                               \n",
       "auto                 8050            10000                18400\n",
       "manual               5750            14000                 8500"
      ]
     },
     "execution_count": 104,
     "metadata": {},
     "output_type": "execute_result"
    }
   ],
   "source": [
    "pd.pivot_table(df[df['is_approved'] == True], index = 'type_of_decision', values=['RequestedAmount', 'max_approved_amount', 'LoanSum'], aggfunc='median')"
   ]
  },
  {
   "cell_type": "markdown",
   "metadata": {},
   "source": [
    "Меньшая доля откзаов клиентов при автоматическом рассмотрении заявки может объясняться тем, что медианная одобренаня сумма выше запрошенной и выше, чем при ручном рассмотрении заявки.\n",
    "\n",
    "Также, стоит обратить внимание на то, что при авторассмотрении медианная одобренная сумма клиенту выше, чем запрошенная. В двух направлениях для исследования: \n",
    "    1. Берут ли клиенты, которым одобрили сумму выше запрашиваемой, большую сумму, чем было запрошено. \n",
    "    2. Сравнить основные показатели двух когорт клиентов - взявших выше запрошенной суммы и в пределах запрошенной суммы.\n",
    "\n",
    "Также, необходимо отдельно проанализировать срок рассмотрения заявки вручную, чтобы опровергнуть или подтвердить гипотезу # 2. "
   ]
  },
  {
   "cell_type": "markdown",
   "metadata": {},
   "source": [
    "**Посмотрим на долю нового бизнеса и повторных кредитов**"
   ]
  },
  {
   "cell_type": "code",
   "execution_count": 35,
   "metadata": {},
   "outputs": [
    {
     "data": {
      "text/html": [
       "<div>\n",
       "<style scoped>\n",
       "    .dataframe tbody tr th:only-of-type {\n",
       "        vertical-align: middle;\n",
       "    }\n",
       "\n",
       "    .dataframe tbody tr th {\n",
       "        vertical-align: top;\n",
       "    }\n",
       "\n",
       "    .dataframe thead th {\n",
       "        text-align: right;\n",
       "    }\n",
       "</style>\n",
       "<table border=\"1\" class=\"dataframe\">\n",
       "  <thead>\n",
       "    <tr style=\"text-align: right;\">\n",
       "      <th></th>\n",
       "      <th>ClientID</th>\n",
       "      <th>IsRepeat</th>\n",
       "    </tr>\n",
       "  </thead>\n",
       "  <tbody>\n",
       "    <tr>\n",
       "      <th>6</th>\n",
       "      <td>3840</td>\n",
       "      <td>4</td>\n",
       "    </tr>\n",
       "    <tr>\n",
       "      <th>184</th>\n",
       "      <td>126507</td>\n",
       "      <td>9</td>\n",
       "    </tr>\n",
       "    <tr>\n",
       "      <th>390</th>\n",
       "      <td>269898</td>\n",
       "      <td>4</td>\n",
       "    </tr>\n",
       "    <tr>\n",
       "      <th>585</th>\n",
       "      <td>363228</td>\n",
       "      <td>4</td>\n",
       "    </tr>\n",
       "    <tr>\n",
       "      <th>1503</th>\n",
       "      <td>720349</td>\n",
       "      <td>4</td>\n",
       "    </tr>\n",
       "    <tr>\n",
       "      <th>...</th>\n",
       "      <td>...</td>\n",
       "      <td>...</td>\n",
       "    </tr>\n",
       "    <tr>\n",
       "      <th>75572</th>\n",
       "      <td>4435199</td>\n",
       "      <td>4</td>\n",
       "    </tr>\n",
       "    <tr>\n",
       "      <th>77378</th>\n",
       "      <td>4438652</td>\n",
       "      <td>4</td>\n",
       "    </tr>\n",
       "    <tr>\n",
       "      <th>81388</th>\n",
       "      <td>4446275</td>\n",
       "      <td>13</td>\n",
       "    </tr>\n",
       "    <tr>\n",
       "      <th>81435</th>\n",
       "      <td>4446370</td>\n",
       "      <td>4</td>\n",
       "    </tr>\n",
       "    <tr>\n",
       "      <th>81733</th>\n",
       "      <td>4446968</td>\n",
       "      <td>4</td>\n",
       "    </tr>\n",
       "  </tbody>\n",
       "</table>\n",
       "<p>278 rows × 2 columns</p>\n",
       "</div>"
      ],
      "text/plain": [
       "       ClientID  IsRepeat\n",
       "6          3840         4\n",
       "184      126507         9\n",
       "390      269898         4\n",
       "585      363228         4\n",
       "1503     720349         4\n",
       "...         ...       ...\n",
       "75572   4435199         4\n",
       "77378   4438652         4\n",
       "81388   4446275        13\n",
       "81435   4446370         4\n",
       "81733   4446968         4\n",
       "\n",
       "[278 rows x 2 columns]"
      ]
     },
     "execution_count": 35,
     "metadata": {},
     "output_type": "execute_result"
    }
   ],
   "source": [
    "num_tries = pd.pivot_table(df, index='ClientID', values='IsRepeat', aggfunc='count').reset_index()\n",
    "num_tries[num_tries['IsRepeat']>3]"
   ]
  },
  {
   "cell_type": "code",
   "execution_count": 36,
   "metadata": {},
   "outputs": [
    {
     "data": {
      "text/plain": [
       "count    86939.000000\n",
       "mean         1.083185\n",
       "std          0.370724\n",
       "min          1.000000\n",
       "25%          1.000000\n",
       "50%          1.000000\n",
       "75%          1.000000\n",
       "max         16.000000\n",
       "Name: IsRepeat, dtype: float64"
      ]
     },
     "execution_count": 36,
     "metadata": {},
     "output_type": "execute_result"
    },
    {
     "data": {
      "image/png": "[encoded data removed]",
      "text/plain": [
       "<Figure size 432x288 with 1 Axes>"
      ]
     },
     "metadata": {
      "needs_background": "light"
     },
     "output_type": "display_data"
    }
   ],
   "source": [
    "num_tries['IsRepeat'].hist()\n",
    "num_tries['IsRepeat'].describe()"
   ]
  },
  {
   "cell_type": "markdown",
   "metadata": {},
   "source": [
    "Более 75% клиентов делают расчет заявки не более одного раза. \n",
    "Проверим, этот же покзаатель в когорте одобренных клиентов. "
   ]
  },
  {
   "cell_type": "code",
   "execution_count": 37,
   "metadata": {},
   "outputs": [],
   "source": [
    "num_tries = pd.pivot_table(df[df['is_approved']==True], index='ClientID', values='IsRepeat', aggfunc='count').reset_index()"
   ]
  },
  {
   "cell_type": "code",
   "execution_count": 38,
   "metadata": {},
   "outputs": [
    {
     "data": {
      "text/plain": [
       "count    25410.000000\n",
       "mean         1.231444\n",
       "std          0.611971\n",
       "min          1.000000\n",
       "25%          1.000000\n",
       "50%          1.000000\n",
       "75%          1.000000\n",
       "max         16.000000\n",
       "Name: IsRepeat, dtype: float64"
      ]
     },
     "execution_count": 38,
     "metadata": {},
     "output_type": "execute_result"
    },
    {
     "data": {
      "image/png": "[encoded data removed]",
      "text/plain": [
       "<Figure size 432x288 with 1 Axes>"
      ]
     },
     "metadata": {
      "needs_background": "light"
     },
     "output_type": "display_data"
    }
   ],
   "source": [
    "num_tries['IsRepeat'].hist()\n",
    "num_tries['IsRepeat'].describe()"
   ]
  },
  {
   "cell_type": "markdown",
   "metadata": {},
   "source": [
    "Retention также крайне низкий. \n",
    "Проверим разницу дат, за которую нам доступна выборка."
   ]
  },
  {
   "cell_type": "code",
   "execution_count": 39,
   "metadata": {},
   "outputs": [
    {
     "name": "stdout",
     "output_type": "stream",
     "text": [
      "2020-07-09 20:08:24.925000\n",
      "2020-06-04 05:24:49.009000\n"
     ]
    }
   ],
   "source": [
    "print(max(df['OrderDate']))\n",
    "print(min(df['OrderDate']))"
   ]
  },
  {
   "cell_type": "markdown",
   "metadata": {},
   "source": [
    "Дело в том, что выборка за один календарный месяц. Поэтому все гипотезы и выводы выше - не основательны."
   ]
  },
  {
   "cell_type": "markdown",
   "metadata": {},
   "source": [
    "# Выводы\n",
    "1. Авторассматривать постоянных клиентов.\n",
    "---\n",
    "Уровень одобрения заявок постоянных клиентов составляет 100%, при этом уровень ручных рассмотрений составляет 30%. \n",
    "Можно сформулировать гипотезу об изменении андеррайтинговых правил для этой когорты, чтобы повысить уровень авторассмотрений. Следующие шаги:\n",
    "1. Более детально изучить суммы и причины отправки клиентов на ручной андеррайтинг. \n",
    "2. Сравнить согласованные врчуную уловия с запрашиваемыми. \n",
    "3. Сравнить срерднюю согласованную сумму с суммой, при достижении которой включается ручной андеррайтинг. \n"
   ]
  },
  {
   "cell_type": "markdown",
   "metadata": {},
   "source": [
    "2. Исследовать высокий rejection rate в новом бизнесе. \n",
    "---\n",
    "На основании данных видно, что только 17% новых клиентов получают одобрение заявки. Необходимо более детально изучить каналы и триггеры привлечения клиентов, а также провести исследовние для поиска рыночных бенчмарков данного покзателя. Следующие шаги:\n",
    "\n",
    "0. Разделить новый бизнес на каналы привлечения (быть может значительная доля отказов - органический, бесплатный траффик). \n",
    "1. Посчитать product/channel fit для каждого канала.\n",
    "2. Провести конкуретный анализ каналов роста и rejection rate.  \n",
    "3. Совместно с командой маркетинга внести корректировки в модель роста продукта на основании инсайтов из п.1 "
   ]
  },
  {
   "cell_type": "markdown",
   "metadata": {},
   "source": [
    "\n",
    "3. Исследовать уровень отказов клиентов от одобренных компанией заявок. \n",
    "---\n",
    "Данные показывают, что приблизительно каждая 10 одобренная заявка не превращается в займ по инициативе, а точнее отсутствию инициативы со стороны клиента. При этом, проблема более характерна для заявок, рассмотренных вручную. \n",
    "Основные гипотезы: \n",
    "    1. Плохие условия (хуже, чем у конкурентов или относительно того, что хотел клиент). \n",
    "    2. Долгое рассмотрение заявки - для ручного андеррайтинга. \n",
    "В качестве дальнейших шагов, я бы предложил провести user research и пообщаться с реальными клиентами, кто отказался от займа, при этом получил одобрение на всю запрошенную сумму. "
   ]
  },
  {
   "cell_type": "markdown",
   "metadata": {},
   "source": [
    "4. Дисбаланс одобренных сумм при авторассмотрении и ручном андеррайтинге. \n",
    "---\n",
    "По текущему датасету можно предположить, что размер запрошенной суммы - один из факторов отправки на андеррайтинг (медианная сумма для авторешений 10 000 р. vs 14 000 р. для ручного андеррайтинга). При этом, медианная одобренная сумма при автопринятии решений выше, чем при ручном андеррайтинге. Это хорошая точка для исследования рентабельности двух когорт клиентов, для исследования корреляции взятой суммы относительно запрошенной "
   ]
  }
 ],
 "metadata": {
  "kernelspec": {
   "display_name": "base",
   "language": "python",
   "name": "python3"
  },
  "language_info": {
   "codemirror_mode": {
    "name": "ipython",
    "version": 3
   },
   "file_extension": ".py",
   "mimetype": "text/x-python",
   "name": "python",
   "nbconvert_exporter": "python",
   "pygments_lexer": "ipython3",
   "version": "3.9.7"
  },
  "orig_nbformat": 4
 },
 "nbformat": 4,
 "nbformat_minor": 2
}
